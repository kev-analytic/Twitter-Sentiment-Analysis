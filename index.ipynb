{
 "cells": [
  {
   "cell_type": "code",
   "execution_count": 110,
   "id": "7abba25b",
   "metadata": {},
   "outputs": [
    {
     "name": "stderr",
     "output_type": "stream",
     "text": [
      "[nltk_data] Downloading package punkt_tab to\n",
      "[nltk_data]     C:\\Users\\HomePC\\AppData\\Roaming\\nltk_data...\n",
      "[nltk_data]   Package punkt_tab is already up-to-date!\n",
      "[nltk_data] Downloading package wordnet to\n",
      "[nltk_data]     C:\\Users\\HomePC\\AppData\\Roaming\\nltk_data...\n",
      "[nltk_data]   Package wordnet is already up-to-date!\n"
     ]
    }
   ],
   "source": [
    "# importing the necessary libraries\n",
    "import re\n",
    "import nltk\n",
    "from sklearn.feature_extraction.text import TfidfVectorizer\n",
    "nltk.download(\"punkt_tab\")\n",
    "nltk.download(\"wordnet\")\n",
    "from sklearn.model_selection import train_test_split\n",
    "from sklearn.preprocessing import MinMaxScaler\n",
    "from sklearn.ensemble import RandomForestClassifier\n",
    "from sklearn.metrics import classification_report,roc_auc_score\n",
    "import xgboost as xgb\n",
    "import pandas as pd\n",
    "import numpy as np\n",
    "import matplotlib.pyplot as plt\n",
    "%matplotlib inline\n",
    "import warnings\n",
    "warnings.filterwarnings(\"ignore\")\n",
    "from sklearn.pipeline import Pipeline"
   ]
  },
  {
   "cell_type": "code",
   "execution_count": 111,
   "id": "8fc045b8",
   "metadata": {},
   "outputs": [
    {
     "data": {
      "application/vnd.microsoft.datawrangler.viewer.v0+json": {
       "columns": [
        {
         "name": "index",
         "rawType": "int64",
         "type": "integer"
        },
        {
         "name": "2401",
         "rawType": "int64",
         "type": "integer"
        },
        {
         "name": "Borderlands",
         "rawType": "object",
         "type": "string"
        },
        {
         "name": "Positive",
         "rawType": "object",
         "type": "string"
        },
        {
         "name": "im getting on borderlands and i will murder you all ,",
         "rawType": "object",
         "type": "string"
        }
       ],
       "ref": "b4371160-88ba-4695-aa7c-4e1f0a8f1a0f",
       "rows": [
        [
         "0",
         "2401",
         "Borderlands",
         "Positive",
         "I am coming to the borders and I will kill you all,"
        ],
        [
         "1",
         "2401",
         "Borderlands",
         "Positive",
         "im getting on borderlands and i will kill you all,"
        ],
        [
         "2",
         "2401",
         "Borderlands",
         "Positive",
         "im coming on borderlands and i will murder you all,"
        ],
        [
         "3",
         "2401",
         "Borderlands",
         "Positive",
         "im getting on borderlands 2 and i will murder you me all,"
        ],
        [
         "4",
         "2401",
         "Borderlands",
         "Positive",
         "im getting into borderlands and i can murder you all,"
        ]
       ],
       "shape": {
        "columns": 4,
        "rows": 5
       }
      },
      "text/html": [
       "<div>\n",
       "<style scoped>\n",
       "    .dataframe tbody tr th:only-of-type {\n",
       "        vertical-align: middle;\n",
       "    }\n",
       "\n",
       "    .dataframe tbody tr th {\n",
       "        vertical-align: top;\n",
       "    }\n",
       "\n",
       "    .dataframe thead th {\n",
       "        text-align: right;\n",
       "    }\n",
       "</style>\n",
       "<table border=\"1\" class=\"dataframe\">\n",
       "  <thead>\n",
       "    <tr style=\"text-align: right;\">\n",
       "      <th></th>\n",
       "      <th>2401</th>\n",
       "      <th>Borderlands</th>\n",
       "      <th>Positive</th>\n",
       "      <th>im getting on borderlands and i will murder you all ,</th>\n",
       "    </tr>\n",
       "  </thead>\n",
       "  <tbody>\n",
       "    <tr>\n",
       "      <th>0</th>\n",
       "      <td>2401</td>\n",
       "      <td>Borderlands</td>\n",
       "      <td>Positive</td>\n",
       "      <td>I am coming to the borders and I will kill you...</td>\n",
       "    </tr>\n",
       "    <tr>\n",
       "      <th>1</th>\n",
       "      <td>2401</td>\n",
       "      <td>Borderlands</td>\n",
       "      <td>Positive</td>\n",
       "      <td>im getting on borderlands and i will kill you ...</td>\n",
       "    </tr>\n",
       "    <tr>\n",
       "      <th>2</th>\n",
       "      <td>2401</td>\n",
       "      <td>Borderlands</td>\n",
       "      <td>Positive</td>\n",
       "      <td>im coming on borderlands and i will murder you...</td>\n",
       "    </tr>\n",
       "    <tr>\n",
       "      <th>3</th>\n",
       "      <td>2401</td>\n",
       "      <td>Borderlands</td>\n",
       "      <td>Positive</td>\n",
       "      <td>im getting on borderlands 2 and i will murder ...</td>\n",
       "    </tr>\n",
       "    <tr>\n",
       "      <th>4</th>\n",
       "      <td>2401</td>\n",
       "      <td>Borderlands</td>\n",
       "      <td>Positive</td>\n",
       "      <td>im getting into borderlands and i can murder y...</td>\n",
       "    </tr>\n",
       "  </tbody>\n",
       "</table>\n",
       "</div>"
      ],
      "text/plain": [
       "   2401  Borderlands  Positive  \\\n",
       "0  2401  Borderlands  Positive   \n",
       "1  2401  Borderlands  Positive   \n",
       "2  2401  Borderlands  Positive   \n",
       "3  2401  Borderlands  Positive   \n",
       "4  2401  Borderlands  Positive   \n",
       "\n",
       "  im getting on borderlands and i will murder you all ,  \n",
       "0  I am coming to the borders and I will kill you...     \n",
       "1  im getting on borderlands and i will kill you ...     \n",
       "2  im coming on borderlands and i will murder you...     \n",
       "3  im getting on borderlands 2 and i will murder ...     \n",
       "4  im getting into borderlands and i can murder y...     "
      ]
     },
     "execution_count": 111,
     "metadata": {},
     "output_type": "execute_result"
    }
   ],
   "source": [
    "# loading the train data\n",
    "df=pd.read_csv(\"twitter_training.csv\")\n",
    "df.head()"
   ]
  },
  {
   "cell_type": "code",
   "execution_count": 112,
   "id": "a41400ee",
   "metadata": {},
   "outputs": [
    {
     "name": "stdout",
     "output_type": "stream",
     "text": [
      "<class 'pandas.core.frame.DataFrame'>\n",
      "RangeIndex: 74681 entries, 0 to 74680\n",
      "Data columns (total 4 columns):\n",
      " #   Column                                                 Non-Null Count  Dtype \n",
      "---  ------                                                 --------------  ----- \n",
      " 0   2401                                                   74681 non-null  int64 \n",
      " 1   Borderlands                                            74681 non-null  object\n",
      " 2   Positive                                               74681 non-null  object\n",
      " 3   im getting on borderlands and i will murder you all ,  73995 non-null  object\n",
      "dtypes: int64(1), object(3)\n",
      "memory usage: 2.3+ MB\n"
     ]
    }
   ],
   "source": [
    "# summarizing the dataset\n",
    "df.info()"
   ]
  },
  {
   "cell_type": "code",
   "execution_count": 113,
   "id": "401ba996",
   "metadata": {},
   "outputs": [],
   "source": [
    "# droping unnecessary columns\n",
    "df.drop(\"2401\",axis=1,inplace=True)"
   ]
  },
  {
   "cell_type": "code",
   "execution_count": 114,
   "id": "d4a27373",
   "metadata": {},
   "outputs": [],
   "source": [
    "# renaming columns\n",
    "df.rename(columns={\"Borderlands\":\"entity\",\"Positive\":\"Sentiment\",\"im getting on borderlands and i will murder you all ,\":\"tweet\"},inplace=True)"
   ]
  },
  {
   "cell_type": "code",
   "execution_count": 115,
   "id": "726d3002",
   "metadata": {},
   "outputs": [
    {
     "data": {
      "application/vnd.microsoft.datawrangler.viewer.v0+json": {
       "columns": [
        {
         "name": "index",
         "rawType": "object",
         "type": "string"
        },
        {
         "name": "0",
         "rawType": "int64",
         "type": "integer"
        }
       ],
       "ref": "9708e45b-c4ce-403f-9f7b-a3ae41a7f87a",
       "rows": [
        [
         "entity",
         "0"
        ],
        [
         "Sentiment",
         "0"
        ],
        [
         "tweet",
         "686"
        ]
       ],
       "shape": {
        "columns": 1,
        "rows": 3
       }
      },
      "text/plain": [
       "entity         0\n",
       "Sentiment      0\n",
       "tweet        686\n",
       "dtype: int64"
      ]
     },
     "execution_count": 115,
     "metadata": {},
     "output_type": "execute_result"
    }
   ],
   "source": [
    "# checking for missing values in the train data \n",
    "df.isna().sum()"
   ]
  },
  {
   "cell_type": "code",
   "execution_count": 116,
   "id": "c2b6b1cd",
   "metadata": {},
   "outputs": [],
   "source": [
    "# dropping missing values\n",
    "df.dropna(inplace=True)"
   ]
  },
  {
   "cell_type": "code",
   "execution_count": 117,
   "id": "b5950385",
   "metadata": {},
   "outputs": [
    {
     "data": {
      "application/vnd.microsoft.datawrangler.viewer.v0+json": {
       "columns": [
        {
         "name": "index",
         "rawType": "object",
         "type": "string"
        },
        {
         "name": "0",
         "rawType": "int64",
         "type": "integer"
        }
       ],
       "ref": "817d3a05-61ca-4000-967b-2d1f1442ef9b",
       "rows": [
        [
         "entity",
         "0"
        ],
        [
         "Sentiment",
         "0"
        ],
        [
         "tweet",
         "0"
        ]
       ],
       "shape": {
        "columns": 1,
        "rows": 3
       }
      },
      "text/plain": [
       "entity       0\n",
       "Sentiment    0\n",
       "tweet        0\n",
       "dtype: int64"
      ]
     },
     "execution_count": 117,
     "metadata": {},
     "output_type": "execute_result"
    }
   ],
   "source": [
    "df.isna().sum()"
   ]
  },
  {
   "cell_type": "code",
   "execution_count": 118,
   "id": "d1752dbe",
   "metadata": {},
   "outputs": [
    {
     "data": {
      "text/plain": [
       "3038"
      ]
     },
     "execution_count": 118,
     "metadata": {},
     "output_type": "execute_result"
    }
   ],
   "source": [
    "# checking for duplicates\n",
    "df.duplicated().sum()"
   ]
  },
  {
   "cell_type": "code",
   "execution_count": 119,
   "id": "7fb1ac76",
   "metadata": {},
   "outputs": [],
   "source": [
    "# dropping duplicates\n",
    "df.drop_duplicates(inplace=True)"
   ]
  },
  {
   "cell_type": "code",
   "execution_count": 120,
   "id": "5ada6529",
   "metadata": {},
   "outputs": [
    {
     "data": {
      "application/vnd.microsoft.datawrangler.viewer.v0+json": {
       "columns": [
        {
         "name": "index",
         "rawType": "object",
         "type": "string"
        },
        {
         "name": "entity",
         "rawType": "object",
         "type": "unknown"
        },
        {
         "name": "Sentiment",
         "rawType": "object",
         "type": "unknown"
        },
        {
         "name": "tweet",
         "rawType": "object",
         "type": "unknown"
        }
       ],
       "ref": "87322d4f-cfca-4dfa-8620-4833aa9c897c",
       "rows": [
        [
         "count",
         "70957",
         "70957",
         "70957"
        ],
        [
         "unique",
         "32",
         "4",
         "69490"
        ],
        [
         "top",
         "CallOfDuty",
         "Negative",
         "It is not the first time that the EU Commission has taken such a step."
        ],
        [
         "freq",
         "2304",
         "21565",
         "77"
        ]
       ],
       "shape": {
        "columns": 3,
        "rows": 4
       }
      },
      "text/html": [
       "<div>\n",
       "<style scoped>\n",
       "    .dataframe tbody tr th:only-of-type {\n",
       "        vertical-align: middle;\n",
       "    }\n",
       "\n",
       "    .dataframe tbody tr th {\n",
       "        vertical-align: top;\n",
       "    }\n",
       "\n",
       "    .dataframe thead th {\n",
       "        text-align: right;\n",
       "    }\n",
       "</style>\n",
       "<table border=\"1\" class=\"dataframe\">\n",
       "  <thead>\n",
       "    <tr style=\"text-align: right;\">\n",
       "      <th></th>\n",
       "      <th>entity</th>\n",
       "      <th>Sentiment</th>\n",
       "      <th>tweet</th>\n",
       "    </tr>\n",
       "  </thead>\n",
       "  <tbody>\n",
       "    <tr>\n",
       "      <th>count</th>\n",
       "      <td>70957</td>\n",
       "      <td>70957</td>\n",
       "      <td>70957</td>\n",
       "    </tr>\n",
       "    <tr>\n",
       "      <th>unique</th>\n",
       "      <td>32</td>\n",
       "      <td>4</td>\n",
       "      <td>69490</td>\n",
       "    </tr>\n",
       "    <tr>\n",
       "      <th>top</th>\n",
       "      <td>CallOfDuty</td>\n",
       "      <td>Negative</td>\n",
       "      <td>It is not the first time that the EU Commissio...</td>\n",
       "    </tr>\n",
       "    <tr>\n",
       "      <th>freq</th>\n",
       "      <td>2304</td>\n",
       "      <td>21565</td>\n",
       "      <td>77</td>\n",
       "    </tr>\n",
       "  </tbody>\n",
       "</table>\n",
       "</div>"
      ],
      "text/plain": [
       "            entity Sentiment  \\\n",
       "count        70957     70957   \n",
       "unique          32         4   \n",
       "top     CallOfDuty  Negative   \n",
       "freq          2304     21565   \n",
       "\n",
       "                                                    tweet  \n",
       "count                                               70957  \n",
       "unique                                              69490  \n",
       "top     It is not the first time that the EU Commissio...  \n",
       "freq                                                   77  "
      ]
     },
     "execution_count": 120,
     "metadata": {},
     "output_type": "execute_result"
    }
   ],
   "source": [
    "# df description\n",
    "df.describe()"
   ]
  },
  {
   "cell_type": "code",
   "execution_count": 121,
   "id": "264910e0",
   "metadata": {},
   "outputs": [
    {
     "data": {
      "application/vnd.microsoft.datawrangler.viewer.v0+json": {
       "columns": [
        {
         "name": "index",
         "rawType": "int64",
         "type": "integer"
        },
        {
         "name": "3364",
         "rawType": "int64",
         "type": "integer"
        },
        {
         "name": "Facebook",
         "rawType": "object",
         "type": "string"
        },
        {
         "name": "Irrelevant",
         "rawType": "object",
         "type": "string"
        },
        {
         "name": "I mentioned on Facebook that I was struggling for motivation to go for a run the other day, which has been translated by Tom’s great auntie as ‘Hayley can’t get out of bed’ and told to his grandma, who now thinks I’m a lazy, terrible person 🤣",
         "rawType": "object",
         "type": "string"
        }
       ],
       "ref": "9da801c0-2f0c-4e45-a59c-0c1cdabfd0ae",
       "rows": [
        [
         "0",
         "352",
         "Amazon",
         "Neutral",
         "BBC News - Amazon boss Jeff Bezos rejects claims company acted like a 'drug dealer' bbc.co.uk/news/av/busine…"
        ],
        [
         "1",
         "8312",
         "Microsoft",
         "Negative",
         "@Microsoft Why do I pay for WORD when it functions so poorly on my @SamsungUS Chromebook? 🙄"
        ],
        [
         "2",
         "4371",
         "CS-GO",
         "Negative",
         "CSGO matchmaking is so full of closet hacking, it's a truly awful game."
        ],
        [
         "3",
         "4433",
         "Google",
         "Neutral",
         "Now the President is slapping Americans in the face that he really did commit an unlawful act after his  acquittal! From Discover on Google vanityfair.com/news/2020/02/t…"
        ],
        [
         "4",
         "6273",
         "FIFA",
         "Negative",
         "Hi @EAHelp I’ve had Madeleine McCann in my cellar for the past 13 years and the little sneaky thing just escaped whilst I was loading up some fifa points, she took my card and I’m having to use my paypal account but it isn’t working, can you help me resolve it please?"
        ]
       ],
       "shape": {
        "columns": 4,
        "rows": 5
       }
      },
      "text/html": [
       "<div>\n",
       "<style scoped>\n",
       "    .dataframe tbody tr th:only-of-type {\n",
       "        vertical-align: middle;\n",
       "    }\n",
       "\n",
       "    .dataframe tbody tr th {\n",
       "        vertical-align: top;\n",
       "    }\n",
       "\n",
       "    .dataframe thead th {\n",
       "        text-align: right;\n",
       "    }\n",
       "</style>\n",
       "<table border=\"1\" class=\"dataframe\">\n",
       "  <thead>\n",
       "    <tr style=\"text-align: right;\">\n",
       "      <th></th>\n",
       "      <th>3364</th>\n",
       "      <th>Facebook</th>\n",
       "      <th>Irrelevant</th>\n",
       "      <th>I mentioned on Facebook that I was struggling for motivation to go for a run the other day, which has been translated by Tom’s great auntie as ‘Hayley can’t get out of bed’ and told to his grandma, who now thinks I’m a lazy, terrible person 🤣</th>\n",
       "    </tr>\n",
       "  </thead>\n",
       "  <tbody>\n",
       "    <tr>\n",
       "      <th>0</th>\n",
       "      <td>352</td>\n",
       "      <td>Amazon</td>\n",
       "      <td>Neutral</td>\n",
       "      <td>BBC News - Amazon boss Jeff Bezos rejects clai...</td>\n",
       "    </tr>\n",
       "    <tr>\n",
       "      <th>1</th>\n",
       "      <td>8312</td>\n",
       "      <td>Microsoft</td>\n",
       "      <td>Negative</td>\n",
       "      <td>@Microsoft Why do I pay for WORD when it funct...</td>\n",
       "    </tr>\n",
       "    <tr>\n",
       "      <th>2</th>\n",
       "      <td>4371</td>\n",
       "      <td>CS-GO</td>\n",
       "      <td>Negative</td>\n",
       "      <td>CSGO matchmaking is so full of closet hacking,...</td>\n",
       "    </tr>\n",
       "    <tr>\n",
       "      <th>3</th>\n",
       "      <td>4433</td>\n",
       "      <td>Google</td>\n",
       "      <td>Neutral</td>\n",
       "      <td>Now the President is slapping Americans in the...</td>\n",
       "    </tr>\n",
       "    <tr>\n",
       "      <th>4</th>\n",
       "      <td>6273</td>\n",
       "      <td>FIFA</td>\n",
       "      <td>Negative</td>\n",
       "      <td>Hi @EAHelp I’ve had Madeleine McCann in my cel...</td>\n",
       "    </tr>\n",
       "  </tbody>\n",
       "</table>\n",
       "</div>"
      ],
      "text/plain": [
       "   3364   Facebook Irrelevant  \\\n",
       "0   352     Amazon    Neutral   \n",
       "1  8312  Microsoft   Negative   \n",
       "2  4371      CS-GO   Negative   \n",
       "3  4433     Google    Neutral   \n",
       "4  6273       FIFA   Negative   \n",
       "\n",
       "  I mentioned on Facebook that I was struggling for motivation to go for a run the other day, which has been translated by Tom’s great auntie as ‘Hayley can’t get out of bed’ and told to his grandma, who now thinks I’m a lazy, terrible person 🤣  \n",
       "0  BBC News - Amazon boss Jeff Bezos rejects clai...                                                                                                                                                                                                  \n",
       "1  @Microsoft Why do I pay for WORD when it funct...                                                                                                                                                                                                  \n",
       "2  CSGO matchmaking is so full of closet hacking,...                                                                                                                                                                                                  \n",
       "3  Now the President is slapping Americans in the...                                                                                                                                                                                                  \n",
       "4  Hi @EAHelp I’ve had Madeleine McCann in my cel...                                                                                                                                                                                                  "
      ]
     },
     "execution_count": 121,
     "metadata": {},
     "output_type": "execute_result"
    }
   ],
   "source": [
    "# loading the validation dataset\n",
    "df_test=pd.read_csv(\"twitter_validation.csv\")\n",
    "df_test.head()"
   ]
  },
  {
   "cell_type": "code",
   "execution_count": 122,
   "id": "ead840a8",
   "metadata": {},
   "outputs": [
    {
     "name": "stdout",
     "output_type": "stream",
     "text": [
      "<class 'pandas.core.frame.DataFrame'>\n",
      "RangeIndex: 999 entries, 0 to 998\n",
      "Data columns (total 4 columns):\n",
      " #   Column                                                                                                                                                                                                                                              Non-Null Count  Dtype \n",
      "---  ------                                                                                                                                                                                                                                              --------------  ----- \n",
      " 0   3364                                                                                                                                                                                                                                                999 non-null    int64 \n",
      " 1   Facebook                                                                                                                                                                                                                                            999 non-null    object\n",
      " 2   Irrelevant                                                                                                                                                                                                                                          999 non-null    object\n",
      " 3   I mentioned on Facebook that I was struggling for motivation to go for a run the other day, which has been translated by Tom’s great auntie as ‘Hayley can’t get out of bed’ and told to his grandma, who now thinks I’m a lazy, terrible person 🤣  999 non-null    object\n",
      "dtypes: int64(1), object(3)\n",
      "memory usage: 31.3+ KB\n"
     ]
    }
   ],
   "source": [
    "# summary of the dataset\n",
    "df_test.info()"
   ]
  },
  {
   "cell_type": "code",
   "execution_count": 123,
   "id": "d10ab6a5",
   "metadata": {},
   "outputs": [],
   "source": [
    "# dropping unnecessary columns\n",
    "df_test.drop(\"3364\",axis=1,inplace=True)"
   ]
  },
  {
   "cell_type": "code",
   "execution_count": 124,
   "id": "063e9d5b",
   "metadata": {},
   "outputs": [
    {
     "data": {
      "application/vnd.microsoft.datawrangler.viewer.v0+json": {
       "columns": [
        {
         "name": "index",
         "rawType": "int64",
         "type": "integer"
        },
        {
         "name": "entity",
         "rawType": "object",
         "type": "string"
        },
        {
         "name": "Sentiment",
         "rawType": "object",
         "type": "string"
        },
        {
         "name": "tweet",
         "rawType": "object",
         "type": "string"
        }
       ],
       "ref": "2f344822-c7f4-4fb9-a7fa-adca0221d2cc",
       "rows": [
        [
         "0",
         "Amazon",
         "Neutral",
         "BBC News - Amazon boss Jeff Bezos rejects claims company acted like a 'drug dealer' bbc.co.uk/news/av/busine…"
        ],
        [
         "1",
         "Microsoft",
         "Negative",
         "@Microsoft Why do I pay for WORD when it functions so poorly on my @SamsungUS Chromebook? 🙄"
        ],
        [
         "2",
         "CS-GO",
         "Negative",
         "CSGO matchmaking is so full of closet hacking, it's a truly awful game."
        ],
        [
         "3",
         "Google",
         "Neutral",
         "Now the President is slapping Americans in the face that he really did commit an unlawful act after his  acquittal! From Discover on Google vanityfair.com/news/2020/02/t…"
        ],
        [
         "4",
         "FIFA",
         "Negative",
         "Hi @EAHelp I’ve had Madeleine McCann in my cellar for the past 13 years and the little sneaky thing just escaped whilst I was loading up some fifa points, she took my card and I’m having to use my paypal account but it isn’t working, can you help me resolve it please?"
        ]
       ],
       "shape": {
        "columns": 3,
        "rows": 5
       }
      },
      "text/html": [
       "<div>\n",
       "<style scoped>\n",
       "    .dataframe tbody tr th:only-of-type {\n",
       "        vertical-align: middle;\n",
       "    }\n",
       "\n",
       "    .dataframe tbody tr th {\n",
       "        vertical-align: top;\n",
       "    }\n",
       "\n",
       "    .dataframe thead th {\n",
       "        text-align: right;\n",
       "    }\n",
       "</style>\n",
       "<table border=\"1\" class=\"dataframe\">\n",
       "  <thead>\n",
       "    <tr style=\"text-align: right;\">\n",
       "      <th></th>\n",
       "      <th>entity</th>\n",
       "      <th>Sentiment</th>\n",
       "      <th>tweet</th>\n",
       "    </tr>\n",
       "  </thead>\n",
       "  <tbody>\n",
       "    <tr>\n",
       "      <th>0</th>\n",
       "      <td>Amazon</td>\n",
       "      <td>Neutral</td>\n",
       "      <td>BBC News - Amazon boss Jeff Bezos rejects clai...</td>\n",
       "    </tr>\n",
       "    <tr>\n",
       "      <th>1</th>\n",
       "      <td>Microsoft</td>\n",
       "      <td>Negative</td>\n",
       "      <td>@Microsoft Why do I pay for WORD when it funct...</td>\n",
       "    </tr>\n",
       "    <tr>\n",
       "      <th>2</th>\n",
       "      <td>CS-GO</td>\n",
       "      <td>Negative</td>\n",
       "      <td>CSGO matchmaking is so full of closet hacking,...</td>\n",
       "    </tr>\n",
       "    <tr>\n",
       "      <th>3</th>\n",
       "      <td>Google</td>\n",
       "      <td>Neutral</td>\n",
       "      <td>Now the President is slapping Americans in the...</td>\n",
       "    </tr>\n",
       "    <tr>\n",
       "      <th>4</th>\n",
       "      <td>FIFA</td>\n",
       "      <td>Negative</td>\n",
       "      <td>Hi @EAHelp I’ve had Madeleine McCann in my cel...</td>\n",
       "    </tr>\n",
       "  </tbody>\n",
       "</table>\n",
       "</div>"
      ],
      "text/plain": [
       "      entity Sentiment                                              tweet\n",
       "0     Amazon   Neutral  BBC News - Amazon boss Jeff Bezos rejects clai...\n",
       "1  Microsoft  Negative  @Microsoft Why do I pay for WORD when it funct...\n",
       "2      CS-GO  Negative  CSGO matchmaking is so full of closet hacking,...\n",
       "3     Google   Neutral  Now the President is slapping Americans in the...\n",
       "4       FIFA  Negative  Hi @EAHelp I’ve had Madeleine McCann in my cel..."
      ]
     },
     "execution_count": 124,
     "metadata": {},
     "output_type": "execute_result"
    }
   ],
   "source": [
    "# renaming columns \n",
    "df_test.rename(columns={\"Facebook\":\"entity\",\"Irrelevant\":\"Sentiment\",\"I mentioned on Facebook that I was struggling for motivation to go for a run the other day, which has been translated by Tom’s great auntie as ‘Hayley can’t get out of bed’ and told to his grandma, who now thinks I’m a lazy, terrible person 🤣\":\"tweet\"},inplace=True)\n",
    "df_test.head()"
   ]
  },
  {
   "cell_type": "markdown",
   "id": "b69d8110",
   "metadata": {},
   "source": [
    "## *Data preprocessing*"
   ]
  },
  {
   "cell_type": "code",
   "execution_count": 125,
   "id": "c0521ba9",
   "metadata": {},
   "outputs": [],
   "source": [
    "# creating columns for number of characters, number of sentences and number of words\n",
    "df[\"char\"]=df[\"tweet\"].apply(lambda x:len(x))\n",
    "df_test[\"char\"]=df_test[\"tweet\"].apply(lambda x:len(x))\n",
    "df[\"words\"]=df[\"tweet\"].apply(lambda x:nltk.word_tokenize(x)).apply(lambda x:len(x))\n",
    "df_test[\"words\"]=df_test[\"tweet\"].apply(lambda x:nltk.word_tokenize(x)).apply(lambda x:len(x))\n",
    "df[\"sentences\"]=df[\"tweet\"].apply(lambda x:nltk.sent_tokenize(x)).apply(lambda x:len(x))\n",
    "df_test[\"sentences\"]=df_test[\"tweet\"].apply(lambda x:nltk.sent_tokenize(x)).apply(lambda x:len(x))"
   ]
  },
  {
   "cell_type": "code",
   "execution_count": 126,
   "id": "0cb2c7c8",
   "metadata": {},
   "outputs": [
    {
     "data": {
      "application/vnd.microsoft.datawrangler.viewer.v0+json": {
       "columns": [
        {
         "name": "index",
         "rawType": "object",
         "type": "string"
        },
        {
         "name": "char",
         "rawType": "float64",
         "type": "float"
        },
        {
         "name": "words",
         "rawType": "float64",
         "type": "float"
        },
        {
         "name": "sentences",
         "rawType": "float64",
         "type": "float"
        }
       ],
       "ref": "672428eb-a31a-4a56-acc5-c470025fb184",
       "rows": [
        [
         "count",
         "70957.0",
         "70957.0",
         "70957.0"
        ],
        [
         "mean",
         "111.08443141620982",
         "23.081429598207365",
         "1.9650633482249813"
        ],
        [
         "std",
         "79.15903620390753",
         "17.126667164585196",
         "1.6424092677634088"
        ],
        [
         "min",
         "1.0",
         "0.0",
         "0.0"
        ],
        [
         "25%",
         "49.0",
         "10.0",
         "1.0"
        ],
        [
         "50%",
         "93.0",
         "19.0",
         "1.0"
        ],
        [
         "75%",
         "155.0",
         "32.0",
         "2.0"
        ],
        [
         "max",
         "957.0",
         "198.0",
         "33.0"
        ]
       ],
       "shape": {
        "columns": 3,
        "rows": 8
       }
      },
      "text/html": [
       "<div>\n",
       "<style scoped>\n",
       "    .dataframe tbody tr th:only-of-type {\n",
       "        vertical-align: middle;\n",
       "    }\n",
       "\n",
       "    .dataframe tbody tr th {\n",
       "        vertical-align: top;\n",
       "    }\n",
       "\n",
       "    .dataframe thead th {\n",
       "        text-align: right;\n",
       "    }\n",
       "</style>\n",
       "<table border=\"1\" class=\"dataframe\">\n",
       "  <thead>\n",
       "    <tr style=\"text-align: right;\">\n",
       "      <th></th>\n",
       "      <th>char</th>\n",
       "      <th>words</th>\n",
       "      <th>sentences</th>\n",
       "    </tr>\n",
       "  </thead>\n",
       "  <tbody>\n",
       "    <tr>\n",
       "      <th>count</th>\n",
       "      <td>70957.000000</td>\n",
       "      <td>70957.000000</td>\n",
       "      <td>70957.000000</td>\n",
       "    </tr>\n",
       "    <tr>\n",
       "      <th>mean</th>\n",
       "      <td>111.084431</td>\n",
       "      <td>23.081430</td>\n",
       "      <td>1.965063</td>\n",
       "    </tr>\n",
       "    <tr>\n",
       "      <th>std</th>\n",
       "      <td>79.159036</td>\n",
       "      <td>17.126667</td>\n",
       "      <td>1.642409</td>\n",
       "    </tr>\n",
       "    <tr>\n",
       "      <th>min</th>\n",
       "      <td>1.000000</td>\n",
       "      <td>0.000000</td>\n",
       "      <td>0.000000</td>\n",
       "    </tr>\n",
       "    <tr>\n",
       "      <th>25%</th>\n",
       "      <td>49.000000</td>\n",
       "      <td>10.000000</td>\n",
       "      <td>1.000000</td>\n",
       "    </tr>\n",
       "    <tr>\n",
       "      <th>50%</th>\n",
       "      <td>93.000000</td>\n",
       "      <td>19.000000</td>\n",
       "      <td>1.000000</td>\n",
       "    </tr>\n",
       "    <tr>\n",
       "      <th>75%</th>\n",
       "      <td>155.000000</td>\n",
       "      <td>32.000000</td>\n",
       "      <td>2.000000</td>\n",
       "    </tr>\n",
       "    <tr>\n",
       "      <th>max</th>\n",
       "      <td>957.000000</td>\n",
       "      <td>198.000000</td>\n",
       "      <td>33.000000</td>\n",
       "    </tr>\n",
       "  </tbody>\n",
       "</table>\n",
       "</div>"
      ],
      "text/plain": [
       "               char         words     sentences\n",
       "count  70957.000000  70957.000000  70957.000000\n",
       "mean     111.084431     23.081430      1.965063\n",
       "std       79.159036     17.126667      1.642409\n",
       "min        1.000000      0.000000      0.000000\n",
       "25%       49.000000     10.000000      1.000000\n",
       "50%       93.000000     19.000000      1.000000\n",
       "75%      155.000000     32.000000      2.000000\n",
       "max      957.000000    198.000000     33.000000"
      ]
     },
     "execution_count": 126,
     "metadata": {},
     "output_type": "execute_result"
    }
   ],
   "source": [
    "# new train df decsription\n",
    "df.describe()"
   ]
  },
  {
   "cell_type": "code",
   "execution_count": 127,
   "id": "d04cd78a",
   "metadata": {},
   "outputs": [],
   "source": [
    "# cleaning the tweets using regular expression\n",
    "def clean_data(text):\n",
    "    text=re.sub(\"[^a-zA-Z]\",\" \",text) # retain only letters\n",
    "    text=str.lower(text)# turn all the text to lower case \n",
    "    text=text.split(\" \") # splitting string into list\n",
    "    text=\" \".join(text) # joining all the text in the list \n",
    "    return text"
   ]
  },
  {
   "cell_type": "code",
   "execution_count": 128,
   "id": "c3d864de",
   "metadata": {},
   "outputs": [],
   "source": [
    "# applying the cleaning function to our dataframe\n",
    "df[\"clean_text\"]=df[\"tweet\"].apply(lambda x:clean_data(x))\n",
    "df_test[\"clean_text\"]=df_test[\"tweet\"].apply(lambda x:clean_data(x))"
   ]
  },
  {
   "cell_type": "code",
   "execution_count": 129,
   "id": "f0680ccf",
   "metadata": {},
   "outputs": [
    {
     "data": {
      "application/vnd.microsoft.datawrangler.viewer.v0+json": {
       "columns": [
        {
         "name": "index",
         "rawType": "int64",
         "type": "integer"
        },
        {
         "name": "entity",
         "rawType": "object",
         "type": "string"
        },
        {
         "name": "Sentiment",
         "rawType": "object",
         "type": "string"
        },
        {
         "name": "tweet",
         "rawType": "object",
         "type": "string"
        },
        {
         "name": "char",
         "rawType": "int64",
         "type": "integer"
        },
        {
         "name": "words",
         "rawType": "int64",
         "type": "integer"
        },
        {
         "name": "sentences",
         "rawType": "int64",
         "type": "integer"
        },
        {
         "name": "clean_text",
         "rawType": "object",
         "type": "string"
        }
       ],
       "ref": "b3910e73-0374-4318-a580-6d42ae499574",
       "rows": [
        [
         "0",
         "Borderlands",
         "Positive",
         "I am coming to the borders and I will kill you all,",
         "51",
         "13",
         "1",
         "i am coming to the borders and i will kill you all "
        ],
        [
         "1",
         "Borderlands",
         "Positive",
         "im getting on borderlands and i will kill you all,",
         "50",
         "11",
         "1",
         "im getting on borderlands and i will kill you all "
        ],
        [
         "2",
         "Borderlands",
         "Positive",
         "im coming on borderlands and i will murder you all,",
         "51",
         "11",
         "1",
         "im coming on borderlands and i will murder you all "
        ],
        [
         "3",
         "Borderlands",
         "Positive",
         "im getting on borderlands 2 and i will murder you me all,",
         "57",
         "13",
         "1",
         "im getting on borderlands   and i will murder you me all "
        ],
        [
         "4",
         "Borderlands",
         "Positive",
         "im getting into borderlands and i can murder you all,",
         "53",
         "11",
         "1",
         "im getting into borderlands and i can murder you all "
        ]
       ],
       "shape": {
        "columns": 7,
        "rows": 5
       }
      },
      "text/html": [
       "<div>\n",
       "<style scoped>\n",
       "    .dataframe tbody tr th:only-of-type {\n",
       "        vertical-align: middle;\n",
       "    }\n",
       "\n",
       "    .dataframe tbody tr th {\n",
       "        vertical-align: top;\n",
       "    }\n",
       "\n",
       "    .dataframe thead th {\n",
       "        text-align: right;\n",
       "    }\n",
       "</style>\n",
       "<table border=\"1\" class=\"dataframe\">\n",
       "  <thead>\n",
       "    <tr style=\"text-align: right;\">\n",
       "      <th></th>\n",
       "      <th>entity</th>\n",
       "      <th>Sentiment</th>\n",
       "      <th>tweet</th>\n",
       "      <th>char</th>\n",
       "      <th>words</th>\n",
       "      <th>sentences</th>\n",
       "      <th>clean_text</th>\n",
       "    </tr>\n",
       "  </thead>\n",
       "  <tbody>\n",
       "    <tr>\n",
       "      <th>0</th>\n",
       "      <td>Borderlands</td>\n",
       "      <td>Positive</td>\n",
       "      <td>I am coming to the borders and I will kill you...</td>\n",
       "      <td>51</td>\n",
       "      <td>13</td>\n",
       "      <td>1</td>\n",
       "      <td>i am coming to the borders and i will kill you...</td>\n",
       "    </tr>\n",
       "    <tr>\n",
       "      <th>1</th>\n",
       "      <td>Borderlands</td>\n",
       "      <td>Positive</td>\n",
       "      <td>im getting on borderlands and i will kill you ...</td>\n",
       "      <td>50</td>\n",
       "      <td>11</td>\n",
       "      <td>1</td>\n",
       "      <td>im getting on borderlands and i will kill you ...</td>\n",
       "    </tr>\n",
       "    <tr>\n",
       "      <th>2</th>\n",
       "      <td>Borderlands</td>\n",
       "      <td>Positive</td>\n",
       "      <td>im coming on borderlands and i will murder you...</td>\n",
       "      <td>51</td>\n",
       "      <td>11</td>\n",
       "      <td>1</td>\n",
       "      <td>im coming on borderlands and i will murder you...</td>\n",
       "    </tr>\n",
       "    <tr>\n",
       "      <th>3</th>\n",
       "      <td>Borderlands</td>\n",
       "      <td>Positive</td>\n",
       "      <td>im getting on borderlands 2 and i will murder ...</td>\n",
       "      <td>57</td>\n",
       "      <td>13</td>\n",
       "      <td>1</td>\n",
       "      <td>im getting on borderlands   and i will murder ...</td>\n",
       "    </tr>\n",
       "    <tr>\n",
       "      <th>4</th>\n",
       "      <td>Borderlands</td>\n",
       "      <td>Positive</td>\n",
       "      <td>im getting into borderlands and i can murder y...</td>\n",
       "      <td>53</td>\n",
       "      <td>11</td>\n",
       "      <td>1</td>\n",
       "      <td>im getting into borderlands and i can murder y...</td>\n",
       "    </tr>\n",
       "  </tbody>\n",
       "</table>\n",
       "</div>"
      ],
      "text/plain": [
       "        entity Sentiment                                              tweet  \\\n",
       "0  Borderlands  Positive  I am coming to the borders and I will kill you...   \n",
       "1  Borderlands  Positive  im getting on borderlands and i will kill you ...   \n",
       "2  Borderlands  Positive  im coming on borderlands and i will murder you...   \n",
       "3  Borderlands  Positive  im getting on borderlands 2 and i will murder ...   \n",
       "4  Borderlands  Positive  im getting into borderlands and i can murder y...   \n",
       "\n",
       "   char  words  sentences                                         clean_text  \n",
       "0    51     13          1  i am coming to the borders and i will kill you...  \n",
       "1    50     11          1  im getting on borderlands and i will kill you ...  \n",
       "2    51     11          1  im coming on borderlands and i will murder you...  \n",
       "3    57     13          1  im getting on borderlands   and i will murder ...  \n",
       "4    53     11          1  im getting into borderlands and i can murder y...  "
      ]
     },
     "execution_count": 129,
     "metadata": {},
     "output_type": "execute_result"
    }
   ],
   "source": [
    "df.head()"
   ]
  },
  {
   "cell_type": "code",
   "execution_count": 130,
   "id": "c5877e03",
   "metadata": {},
   "outputs": [
    {
     "data": {
      "application/vnd.microsoft.datawrangler.viewer.v0+json": {
       "columns": [
        {
         "name": "index",
         "rawType": "int64",
         "type": "integer"
        },
        {
         "name": "entity",
         "rawType": "object",
         "type": "string"
        },
        {
         "name": "Sentiment",
         "rawType": "object",
         "type": "string"
        },
        {
         "name": "tweet",
         "rawType": "object",
         "type": "string"
        },
        {
         "name": "char",
         "rawType": "int64",
         "type": "integer"
        },
        {
         "name": "words",
         "rawType": "int64",
         "type": "integer"
        },
        {
         "name": "sentences",
         "rawType": "int64",
         "type": "integer"
        },
        {
         "name": "clean_text",
         "rawType": "object",
         "type": "string"
        },
        {
         "name": "tokens",
         "rawType": "object",
         "type": "unknown"
        }
       ],
       "ref": "f4804676-289f-4ff3-a2c1-f721e76a50b0",
       "rows": [
        [
         "0",
         "Amazon",
         "Neutral",
         "BBC News - Amazon boss Jeff Bezos rejects claims company acted like a 'drug dealer' bbc.co.uk/news/av/busine…",
         "109",
         "17",
         "1",
         "bbc news   amazon boss jeff bezos rejects claims company acted like a  drug dealer  bbc co uk news av busine ",
         "['bbc', 'news', 'amazon', 'boss', 'jeff', 'bezos', 'rejects', 'claims', 'company', 'acted', 'like', 'a', 'drug', 'dealer', 'bbc', 'co', 'uk', 'news', 'av', 'busine']"
        ],
        [
         "1",
         "Microsoft",
         "Negative",
         "@Microsoft Why do I pay for WORD when it functions so poorly on my @SamsungUS Chromebook? 🙄",
         "91",
         "20",
         "2",
         " microsoft why do i pay for word when it functions so poorly on my  samsungus chromebook   ",
         "['microsoft', 'why', 'do', 'i', 'pay', 'for', 'word', 'when', 'it', 'functions', 'so', 'poorly', 'on', 'my', 'samsungus', 'chromebook']"
        ],
        [
         "2",
         "CS-GO",
         "Negative",
         "CSGO matchmaking is so full of closet hacking, it's a truly awful game.",
         "71",
         "16",
         "1",
         "csgo matchmaking is so full of closet hacking  it s a truly awful game ",
         "['csgo', 'matchmaking', 'is', 'so', 'full', 'of', 'closet', 'hacking', 'it', 's', 'a', 'truly', 'awful', 'game']"
        ],
        [
         "3",
         "Google",
         "Neutral",
         "Now the President is slapping Americans in the face that he really did commit an unlawful act after his  acquittal! From Discover on Google vanityfair.com/news/2020/02/t…",
         "170",
         "26",
         "2",
         "now the president is slapping americans in the face that he really did commit an unlawful act after his  acquittal  from discover on google vanityfair com news         t ",
         "['now', 'the', 'president', 'is', 'slapping', 'americans', 'in', 'the', 'face', 'that', 'he', 'really', 'did', 'commit', 'an', 'unlawful', 'act', 'after', 'his', 'acquittal', 'from', 'discover', 'on', 'google', 'vanityfair', 'com', 'news', 't']"
        ],
        [
         "4",
         "FIFA",
         "Negative",
         "Hi @EAHelp I’ve had Madeleine McCann in my cellar for the past 13 years and the little sneaky thing just escaped whilst I was loading up some fifa points, she took my card and I’m having to use my paypal account but it isn’t working, can you help me resolve it please?",
         "268",
         "62",
         "1",
         "hi  eahelp i ve had madeleine mccann in my cellar for the past    years and the little sneaky thing just escaped whilst i was loading up some fifa points  she took my card and i m having to use my paypal account but it isn t working  can you help me resolve it please ",
         "['hi', 'eahelp', 'i', 've', 'had', 'madeleine', 'mccann', 'in', 'my', 'cellar', 'for', 'the', 'past', 'years', 'and', 'the', 'little', 'sneaky', 'thing', 'just', 'escaped', 'whilst', 'i', 'was', 'loading', 'up', 'some', 'fifa', 'points', 'she', 'took', 'my', 'card', 'and', 'i', 'm', 'having', 'to', 'use', 'my', 'paypal', 'account', 'but', 'it', 'isn', 't', 'working', 'can', 'you', 'help', 'me', 'resolve', 'it', 'please']"
        ]
       ],
       "shape": {
        "columns": 8,
        "rows": 5
       }
      },
      "text/html": [
       "<div>\n",
       "<style scoped>\n",
       "    .dataframe tbody tr th:only-of-type {\n",
       "        vertical-align: middle;\n",
       "    }\n",
       "\n",
       "    .dataframe tbody tr th {\n",
       "        vertical-align: top;\n",
       "    }\n",
       "\n",
       "    .dataframe thead th {\n",
       "        text-align: right;\n",
       "    }\n",
       "</style>\n",
       "<table border=\"1\" class=\"dataframe\">\n",
       "  <thead>\n",
       "    <tr style=\"text-align: right;\">\n",
       "      <th></th>\n",
       "      <th>entity</th>\n",
       "      <th>Sentiment</th>\n",
       "      <th>tweet</th>\n",
       "      <th>char</th>\n",
       "      <th>words</th>\n",
       "      <th>sentences</th>\n",
       "      <th>clean_text</th>\n",
       "      <th>tokens</th>\n",
       "    </tr>\n",
       "  </thead>\n",
       "  <tbody>\n",
       "    <tr>\n",
       "      <th>0</th>\n",
       "      <td>Amazon</td>\n",
       "      <td>Neutral</td>\n",
       "      <td>BBC News - Amazon boss Jeff Bezos rejects clai...</td>\n",
       "      <td>109</td>\n",
       "      <td>17</td>\n",
       "      <td>1</td>\n",
       "      <td>bbc news   amazon boss jeff bezos rejects clai...</td>\n",
       "      <td>[bbc, news, amazon, boss, jeff, bezos, rejects...</td>\n",
       "    </tr>\n",
       "    <tr>\n",
       "      <th>1</th>\n",
       "      <td>Microsoft</td>\n",
       "      <td>Negative</td>\n",
       "      <td>@Microsoft Why do I pay for WORD when it funct...</td>\n",
       "      <td>91</td>\n",
       "      <td>20</td>\n",
       "      <td>2</td>\n",
       "      <td>microsoft why do i pay for word when it funct...</td>\n",
       "      <td>[microsoft, why, do, i, pay, for, word, when, ...</td>\n",
       "    </tr>\n",
       "    <tr>\n",
       "      <th>2</th>\n",
       "      <td>CS-GO</td>\n",
       "      <td>Negative</td>\n",
       "      <td>CSGO matchmaking is so full of closet hacking,...</td>\n",
       "      <td>71</td>\n",
       "      <td>16</td>\n",
       "      <td>1</td>\n",
       "      <td>csgo matchmaking is so full of closet hacking ...</td>\n",
       "      <td>[csgo, matchmaking, is, so, full, of, closet, ...</td>\n",
       "    </tr>\n",
       "    <tr>\n",
       "      <th>3</th>\n",
       "      <td>Google</td>\n",
       "      <td>Neutral</td>\n",
       "      <td>Now the President is slapping Americans in the...</td>\n",
       "      <td>170</td>\n",
       "      <td>26</td>\n",
       "      <td>2</td>\n",
       "      <td>now the president is slapping americans in the...</td>\n",
       "      <td>[now, the, president, is, slapping, americans,...</td>\n",
       "    </tr>\n",
       "    <tr>\n",
       "      <th>4</th>\n",
       "      <td>FIFA</td>\n",
       "      <td>Negative</td>\n",
       "      <td>Hi @EAHelp I’ve had Madeleine McCann in my cel...</td>\n",
       "      <td>268</td>\n",
       "      <td>62</td>\n",
       "      <td>1</td>\n",
       "      <td>hi  eahelp i ve had madeleine mccann in my cel...</td>\n",
       "      <td>[hi, eahelp, i, ve, had, madeleine, mccann, in...</td>\n",
       "    </tr>\n",
       "  </tbody>\n",
       "</table>\n",
       "</div>"
      ],
      "text/plain": [
       "      entity Sentiment                                              tweet  \\\n",
       "0     Amazon   Neutral  BBC News - Amazon boss Jeff Bezos rejects clai...   \n",
       "1  Microsoft  Negative  @Microsoft Why do I pay for WORD when it funct...   \n",
       "2      CS-GO  Negative  CSGO matchmaking is so full of closet hacking,...   \n",
       "3     Google   Neutral  Now the President is slapping Americans in the...   \n",
       "4       FIFA  Negative  Hi @EAHelp I’ve had Madeleine McCann in my cel...   \n",
       "\n",
       "   char  words  sentences                                         clean_text  \\\n",
       "0   109     17          1  bbc news   amazon boss jeff bezos rejects clai...   \n",
       "1    91     20          2   microsoft why do i pay for word when it funct...   \n",
       "2    71     16          1  csgo matchmaking is so full of closet hacking ...   \n",
       "3   170     26          2  now the president is slapping americans in the...   \n",
       "4   268     62          1  hi  eahelp i ve had madeleine mccann in my cel...   \n",
       "\n",
       "                                              tokens  \n",
       "0  [bbc, news, amazon, boss, jeff, bezos, rejects...  \n",
       "1  [microsoft, why, do, i, pay, for, word, when, ...  \n",
       "2  [csgo, matchmaking, is, so, full, of, closet, ...  \n",
       "3  [now, the, president, is, slapping, americans,...  \n",
       "4  [hi, eahelp, i, ve, had, madeleine, mccann, in...  "
      ]
     },
     "execution_count": 130,
     "metadata": {},
     "output_type": "execute_result"
    }
   ],
   "source": [
    "# tokenizing the tweets\n",
    "df[\"tokens\"]=df[\"clean_text\"].apply(lambda x:nltk.word_tokenize(x))\n",
    "df_test[\"tokens\"]=df_test[\"clean_text\"].apply(lambda x:nltk.word_tokenize(x))\n",
    "df_test.head()\n"
   ]
  },
  {
   "cell_type": "code",
   "execution_count": 131,
   "id": "90b85745",
   "metadata": {},
   "outputs": [
    {
     "data": {
      "application/vnd.microsoft.datawrangler.viewer.v0+json": {
       "columns": [
        {
         "name": "index",
         "rawType": "int64",
         "type": "integer"
        },
        {
         "name": "entity",
         "rawType": "object",
         "type": "string"
        },
        {
         "name": "Sentiment",
         "rawType": "object",
         "type": "string"
        },
        {
         "name": "tweet",
         "rawType": "object",
         "type": "string"
        },
        {
         "name": "char",
         "rawType": "int64",
         "type": "integer"
        },
        {
         "name": "words",
         "rawType": "int64",
         "type": "integer"
        },
        {
         "name": "sentences",
         "rawType": "int64",
         "type": "integer"
        },
        {
         "name": "clean_text",
         "rawType": "object",
         "type": "string"
        },
        {
         "name": "tokens",
         "rawType": "object",
         "type": "unknown"
        },
        {
         "name": "lemmas",
         "rawType": "object",
         "type": "string"
        }
       ],
       "ref": "00e6cd44-3cad-4c74-a4c0-f38282322d27",
       "rows": [
        [
         "0",
         "Borderlands",
         "Positive",
         "I am coming to the borders and I will kill you all,",
         "51",
         "13",
         "1",
         "i am coming to the borders and i will kill you all ",
         "['i', 'am', 'coming', 'to', 'the', 'borders', 'and', 'i', 'will', 'kill', 'you', 'all']",
         "i am coming to the border and i will kill you all"
        ],
        [
         "1",
         "Borderlands",
         "Positive",
         "im getting on borderlands and i will kill you all,",
         "50",
         "11",
         "1",
         "im getting on borderlands and i will kill you all ",
         "['im', 'getting', 'on', 'borderlands', 'and', 'i', 'will', 'kill', 'you', 'all']",
         "im getting on borderland and i will kill you all"
        ],
        [
         "2",
         "Borderlands",
         "Positive",
         "im coming on borderlands and i will murder you all,",
         "51",
         "11",
         "1",
         "im coming on borderlands and i will murder you all ",
         "['im', 'coming', 'on', 'borderlands', 'and', 'i', 'will', 'murder', 'you', 'all']",
         "im coming on borderland and i will murder you all"
        ],
        [
         "3",
         "Borderlands",
         "Positive",
         "im getting on borderlands 2 and i will murder you me all,",
         "57",
         "13",
         "1",
         "im getting on borderlands   and i will murder you me all ",
         "['im', 'getting', 'on', 'borderlands', 'and', 'i', 'will', 'murder', 'you', 'me', 'all']",
         "im getting on borderland and i will murder you me all"
        ],
        [
         "4",
         "Borderlands",
         "Positive",
         "im getting into borderlands and i can murder you all,",
         "53",
         "11",
         "1",
         "im getting into borderlands and i can murder you all ",
         "['im', 'getting', 'into', 'borderlands', 'and', 'i', 'can', 'murder', 'you', 'all']",
         "im getting into borderland and i can murder you all"
        ]
       ],
       "shape": {
        "columns": 9,
        "rows": 5
       }
      },
      "text/html": [
       "<div>\n",
       "<style scoped>\n",
       "    .dataframe tbody tr th:only-of-type {\n",
       "        vertical-align: middle;\n",
       "    }\n",
       "\n",
       "    .dataframe tbody tr th {\n",
       "        vertical-align: top;\n",
       "    }\n",
       "\n",
       "    .dataframe thead th {\n",
       "        text-align: right;\n",
       "    }\n",
       "</style>\n",
       "<table border=\"1\" class=\"dataframe\">\n",
       "  <thead>\n",
       "    <tr style=\"text-align: right;\">\n",
       "      <th></th>\n",
       "      <th>entity</th>\n",
       "      <th>Sentiment</th>\n",
       "      <th>tweet</th>\n",
       "      <th>char</th>\n",
       "      <th>words</th>\n",
       "      <th>sentences</th>\n",
       "      <th>clean_text</th>\n",
       "      <th>tokens</th>\n",
       "      <th>lemmas</th>\n",
       "    </tr>\n",
       "  </thead>\n",
       "  <tbody>\n",
       "    <tr>\n",
       "      <th>0</th>\n",
       "      <td>Borderlands</td>\n",
       "      <td>Positive</td>\n",
       "      <td>I am coming to the borders and I will kill you...</td>\n",
       "      <td>51</td>\n",
       "      <td>13</td>\n",
       "      <td>1</td>\n",
       "      <td>i am coming to the borders and i will kill you...</td>\n",
       "      <td>[i, am, coming, to, the, borders, and, i, will...</td>\n",
       "      <td>i am coming to the border and i will kill you all</td>\n",
       "    </tr>\n",
       "    <tr>\n",
       "      <th>1</th>\n",
       "      <td>Borderlands</td>\n",
       "      <td>Positive</td>\n",
       "      <td>im getting on borderlands and i will kill you ...</td>\n",
       "      <td>50</td>\n",
       "      <td>11</td>\n",
       "      <td>1</td>\n",
       "      <td>im getting on borderlands and i will kill you ...</td>\n",
       "      <td>[im, getting, on, borderlands, and, i, will, k...</td>\n",
       "      <td>im getting on borderland and i will kill you all</td>\n",
       "    </tr>\n",
       "    <tr>\n",
       "      <th>2</th>\n",
       "      <td>Borderlands</td>\n",
       "      <td>Positive</td>\n",
       "      <td>im coming on borderlands and i will murder you...</td>\n",
       "      <td>51</td>\n",
       "      <td>11</td>\n",
       "      <td>1</td>\n",
       "      <td>im coming on borderlands and i will murder you...</td>\n",
       "      <td>[im, coming, on, borderlands, and, i, will, mu...</td>\n",
       "      <td>im coming on borderland and i will murder you all</td>\n",
       "    </tr>\n",
       "    <tr>\n",
       "      <th>3</th>\n",
       "      <td>Borderlands</td>\n",
       "      <td>Positive</td>\n",
       "      <td>im getting on borderlands 2 and i will murder ...</td>\n",
       "      <td>57</td>\n",
       "      <td>13</td>\n",
       "      <td>1</td>\n",
       "      <td>im getting on borderlands   and i will murder ...</td>\n",
       "      <td>[im, getting, on, borderlands, and, i, will, m...</td>\n",
       "      <td>im getting on borderland and i will murder you...</td>\n",
       "    </tr>\n",
       "    <tr>\n",
       "      <th>4</th>\n",
       "      <td>Borderlands</td>\n",
       "      <td>Positive</td>\n",
       "      <td>im getting into borderlands and i can murder y...</td>\n",
       "      <td>53</td>\n",
       "      <td>11</td>\n",
       "      <td>1</td>\n",
       "      <td>im getting into borderlands and i can murder y...</td>\n",
       "      <td>[im, getting, into, borderlands, and, i, can, ...</td>\n",
       "      <td>im getting into borderland and i can murder yo...</td>\n",
       "    </tr>\n",
       "  </tbody>\n",
       "</table>\n",
       "</div>"
      ],
      "text/plain": [
       "        entity Sentiment                                              tweet  \\\n",
       "0  Borderlands  Positive  I am coming to the borders and I will kill you...   \n",
       "1  Borderlands  Positive  im getting on borderlands and i will kill you ...   \n",
       "2  Borderlands  Positive  im coming on borderlands and i will murder you...   \n",
       "3  Borderlands  Positive  im getting on borderlands 2 and i will murder ...   \n",
       "4  Borderlands  Positive  im getting into borderlands and i can murder y...   \n",
       "\n",
       "   char  words  sentences                                         clean_text  \\\n",
       "0    51     13          1  i am coming to the borders and i will kill you...   \n",
       "1    50     11          1  im getting on borderlands and i will kill you ...   \n",
       "2    51     11          1  im coming on borderlands and i will murder you...   \n",
       "3    57     13          1  im getting on borderlands   and i will murder ...   \n",
       "4    53     11          1  im getting into borderlands and i can murder y...   \n",
       "\n",
       "                                              tokens  \\\n",
       "0  [i, am, coming, to, the, borders, and, i, will...   \n",
       "1  [im, getting, on, borderlands, and, i, will, k...   \n",
       "2  [im, coming, on, borderlands, and, i, will, mu...   \n",
       "3  [im, getting, on, borderlands, and, i, will, m...   \n",
       "4  [im, getting, into, borderlands, and, i, can, ...   \n",
       "\n",
       "                                              lemmas  \n",
       "0  i am coming to the border and i will kill you all  \n",
       "1   im getting on borderland and i will kill you all  \n",
       "2  im coming on borderland and i will murder you all  \n",
       "3  im getting on borderland and i will murder you...  \n",
       "4  im getting into borderland and i can murder yo...  "
      ]
     },
     "execution_count": 131,
     "metadata": {},
     "output_type": "execute_result"
    }
   ],
   "source": [
    "# lemmatizing the tokens \n",
    "df[\"lemmas\"]=df[\"tokens\"].apply(lambda x:[nltk.WordNetLemmatizer().lemmatize(token) for token in x]).apply(lambda x: \" \".join(x))\n",
    "df_test[\"lemmas\"]=df_test[\"tokens\"].apply(lambda x:[nltk.WordNetLemmatizer().lemmatize(token) for token in x]).apply(lambda x: \" \".join(x))\n",
    "df.head()"
   ]
  },
  {
   "cell_type": "code",
   "execution_count": 133,
   "id": "52213c47",
   "metadata": {},
   "outputs": [],
   "source": [
    "# # changing the sparse matrix into a dataframe\n",
    "# tf_df=pd.DataFrame(X.toarray(),columns=tfidf.get_feature_names_out(),index=df.index)\n",
    "# tf_df_val=pd.DataFrame(X_val.toarray(),columns=tfidf.get_feature_names_out(),index=df_test.index)"
   ]
  },
  {
   "cell_type": "code",
   "execution_count": 138,
   "id": "10f36254",
   "metadata": {},
   "outputs": [],
   "source": [
    "#defining X\n",
    "X=df[\"lemmas\"]"
   ]
  },
  {
   "cell_type": "code",
   "execution_count": 139,
   "id": "4e18106c",
   "metadata": {},
   "outputs": [],
   "source": [
    "# defining target\n",
    "y=df[\"Sentiment\"]\n",
    "y_val=df_test[\"Sentiment\"]"
   ]
  },
  {
   "cell_type": "code",
   "execution_count": 140,
   "id": "503f18f3",
   "metadata": {},
   "outputs": [],
   "source": [
    "# modelling pipeline\n",
    "pipe=Pipeline([(\"tfidf\",TfidfVectorizer(stop_words=\"english\")),\n",
    "               (\"model\",RandomForestClassifier())])"
   ]
  },
  {
   "cell_type": "code",
   "execution_count": 141,
   "id": "c3c757fe",
   "metadata": {},
   "outputs": [
    {
     "data": {
      "text/html": [
       "<style>#sk-container-id-1 {color: black;background-color: white;}#sk-container-id-1 pre{padding: 0;}#sk-container-id-1 div.sk-toggleable {background-color: white;}#sk-container-id-1 label.sk-toggleable__label {cursor: pointer;display: block;width: 100%;margin-bottom: 0;padding: 0.3em;box-sizing: border-box;text-align: center;}#sk-container-id-1 label.sk-toggleable__label-arrow:before {content: \"▸\";float: left;margin-right: 0.25em;color: #696969;}#sk-container-id-1 label.sk-toggleable__label-arrow:hover:before {color: black;}#sk-container-id-1 div.sk-estimator:hover label.sk-toggleable__label-arrow:before {color: black;}#sk-container-id-1 div.sk-toggleable__content {max-height: 0;max-width: 0;overflow: hidden;text-align: left;background-color: #f0f8ff;}#sk-container-id-1 div.sk-toggleable__content pre {margin: 0.2em;color: black;border-radius: 0.25em;background-color: #f0f8ff;}#sk-container-id-1 input.sk-toggleable__control:checked~div.sk-toggleable__content {max-height: 200px;max-width: 100%;overflow: auto;}#sk-container-id-1 input.sk-toggleable__control:checked~label.sk-toggleable__label-arrow:before {content: \"▾\";}#sk-container-id-1 div.sk-estimator input.sk-toggleable__control:checked~label.sk-toggleable__label {background-color: #d4ebff;}#sk-container-id-1 div.sk-label input.sk-toggleable__control:checked~label.sk-toggleable__label {background-color: #d4ebff;}#sk-container-id-1 input.sk-hidden--visually {border: 0;clip: rect(1px 1px 1px 1px);clip: rect(1px, 1px, 1px, 1px);height: 1px;margin: -1px;overflow: hidden;padding: 0;position: absolute;width: 1px;}#sk-container-id-1 div.sk-estimator {font-family: monospace;background-color: #f0f8ff;border: 1px dotted black;border-radius: 0.25em;box-sizing: border-box;margin-bottom: 0.5em;}#sk-container-id-1 div.sk-estimator:hover {background-color: #d4ebff;}#sk-container-id-1 div.sk-parallel-item::after {content: \"\";width: 100%;border-bottom: 1px solid gray;flex-grow: 1;}#sk-container-id-1 div.sk-label:hover label.sk-toggleable__label {background-color: #d4ebff;}#sk-container-id-1 div.sk-serial::before {content: \"\";position: absolute;border-left: 1px solid gray;box-sizing: border-box;top: 0;bottom: 0;left: 50%;z-index: 0;}#sk-container-id-1 div.sk-serial {display: flex;flex-direction: column;align-items: center;background-color: white;padding-right: 0.2em;padding-left: 0.2em;position: relative;}#sk-container-id-1 div.sk-item {position: relative;z-index: 1;}#sk-container-id-1 div.sk-parallel {display: flex;align-items: stretch;justify-content: center;background-color: white;position: relative;}#sk-container-id-1 div.sk-item::before, #sk-container-id-1 div.sk-parallel-item::before {content: \"\";position: absolute;border-left: 1px solid gray;box-sizing: border-box;top: 0;bottom: 0;left: 50%;z-index: -1;}#sk-container-id-1 div.sk-parallel-item {display: flex;flex-direction: column;z-index: 1;position: relative;background-color: white;}#sk-container-id-1 div.sk-parallel-item:first-child::after {align-self: flex-end;width: 50%;}#sk-container-id-1 div.sk-parallel-item:last-child::after {align-self: flex-start;width: 50%;}#sk-container-id-1 div.sk-parallel-item:only-child::after {width: 0;}#sk-container-id-1 div.sk-dashed-wrapped {border: 1px dashed gray;margin: 0 0.4em 0.5em 0.4em;box-sizing: border-box;padding-bottom: 0.4em;background-color: white;}#sk-container-id-1 div.sk-label label {font-family: monospace;font-weight: bold;display: inline-block;line-height: 1.2em;}#sk-container-id-1 div.sk-label-container {text-align: center;}#sk-container-id-1 div.sk-container {/* jupyter's `normalize.less` sets `[hidden] { display: none; }` but bootstrap.min.css set `[hidden] { display: none !important; }` so we also need the `!important` here to be able to override the default hidden behavior on the sphinx rendered scikit-learn.org. See: https://github.com/scikit-learn/scikit-learn/issues/21755 */display: inline-block !important;position: relative;}#sk-container-id-1 div.sk-text-repr-fallback {display: none;}</style><div id=\"sk-container-id-1\" class=\"sk-top-container\"><div class=\"sk-text-repr-fallback\"><pre>Pipeline(steps=[(&#x27;tfidf&#x27;, TfidfVectorizer(stop_words=&#x27;english&#x27;)),\n",
       "                (&#x27;model&#x27;, RandomForestClassifier())])</pre><b>In a Jupyter environment, please rerun this cell to show the HTML representation or trust the notebook. <br />On GitHub, the HTML representation is unable to render, please try loading this page with nbviewer.org.</b></div><div class=\"sk-container\" hidden><div class=\"sk-item sk-dashed-wrapped\"><div class=\"sk-label-container\"><div class=\"sk-label sk-toggleable\"><input class=\"sk-toggleable__control sk-hidden--visually\" id=\"sk-estimator-id-1\" type=\"checkbox\" ><label for=\"sk-estimator-id-1\" class=\"sk-toggleable__label sk-toggleable__label-arrow\">Pipeline</label><div class=\"sk-toggleable__content\"><pre>Pipeline(steps=[(&#x27;tfidf&#x27;, TfidfVectorizer(stop_words=&#x27;english&#x27;)),\n",
       "                (&#x27;model&#x27;, RandomForestClassifier())])</pre></div></div></div><div class=\"sk-serial\"><div class=\"sk-item\"><div class=\"sk-estimator sk-toggleable\"><input class=\"sk-toggleable__control sk-hidden--visually\" id=\"sk-estimator-id-2\" type=\"checkbox\" ><label for=\"sk-estimator-id-2\" class=\"sk-toggleable__label sk-toggleable__label-arrow\">TfidfVectorizer</label><div class=\"sk-toggleable__content\"><pre>TfidfVectorizer(stop_words=&#x27;english&#x27;)</pre></div></div></div><div class=\"sk-item\"><div class=\"sk-estimator sk-toggleable\"><input class=\"sk-toggleable__control sk-hidden--visually\" id=\"sk-estimator-id-3\" type=\"checkbox\" ><label for=\"sk-estimator-id-3\" class=\"sk-toggleable__label sk-toggleable__label-arrow\">RandomForestClassifier</label><div class=\"sk-toggleable__content\"><pre>RandomForestClassifier()</pre></div></div></div></div></div></div></div>"
      ],
      "text/plain": [
       "Pipeline(steps=[('tfidf', TfidfVectorizer(stop_words='english')),\n",
       "                ('model', RandomForestClassifier())])"
      ]
     },
     "execution_count": 141,
     "metadata": {},
     "output_type": "execute_result"
    }
   ],
   "source": [
    "# fitting the model\n",
    "pipe.fit(X,y)"
   ]
  },
  {
   "cell_type": "code",
   "execution_count": 142,
   "id": "262e60bc",
   "metadata": {},
   "outputs": [],
   "source": [
    "# defining X_val \n",
    "X_val=df_test[\"lemmas\"]"
   ]
  },
  {
   "cell_type": "code",
   "execution_count": 143,
   "id": "4bf0d0da",
   "metadata": {},
   "outputs": [],
   "source": [
    "# predicting X_val\n",
    "val_pred=pipe.predict(X_val)\n",
    "train_pred=pipe.predict(X)"
   ]
  },
  {
   "cell_type": "code",
   "execution_count": 144,
   "id": "66efd27d",
   "metadata": {},
   "outputs": [
    {
     "name": "stdout",
     "output_type": "stream",
     "text": [
      "train               precision    recall  f1-score   support\n",
      "\n",
      "  Irrelevant       1.00      0.97      0.98     12446\n",
      "    Negative       0.99      0.98      0.98     21565\n",
      "     Neutral       1.00      0.97      0.98     17398\n",
      "    Positive       0.94      0.99      0.96     19548\n",
      "\n",
      "    accuracy                           0.98     70957\n",
      "   macro avg       0.98      0.98      0.98     70957\n",
      "weighted avg       0.98      0.98      0.98     70957\n",
      "\n",
      "validation               precision    recall  f1-score   support\n",
      "\n",
      "  Irrelevant       0.99      0.93      0.96       171\n",
      "    Negative       0.94      0.97      0.95       266\n",
      "     Neutral       0.95      0.95      0.95       285\n",
      "    Positive       0.96      0.97      0.96       277\n",
      "\n",
      "    accuracy                           0.96       999\n",
      "   macro avg       0.96      0.95      0.96       999\n",
      "weighted avg       0.96      0.96      0.96       999\n",
      "\n"
     ]
    }
   ],
   "source": [
    "# classification report\n",
    "print(f\"train {classification_report(y,train_pred)}\")\n",
    "print(f\"validation {classification_report(y_val,val_pred)}\")"
   ]
  },
  {
   "cell_type": "code",
   "execution_count": 148,
   "id": "200d51d8",
   "metadata": {},
   "outputs": [
    {
     "name": "stdout",
     "output_type": "stream",
     "text": [
      "train auc 0.99927070936292, val score 0.9968105520237917\n"
     ]
    }
   ],
   "source": [
    "# roc_auc scores \n",
    "y_train_score=pipe.predict_proba(X)\n",
    "y_val_score=pipe.predict_proba(X_val)\n",
    "print(f\"train auc {roc_auc_score(y,y_train_score,multi_class='ovo')}, val score {roc_auc_score(y_val,y_val_score,multi_class='ovo')}\")"
   ]
  }
 ],
 "metadata": {
  "kernelspec": {
   "display_name": "Python (learn-env)",
   "language": "python",
   "name": "learn-env"
  },
  "language_info": {
   "codemirror_mode": {
    "name": "ipython",
    "version": 3
   },
   "file_extension": ".py",
   "mimetype": "text/x-python",
   "name": "python",
   "nbconvert_exporter": "python",
   "pygments_lexer": "ipython3",
   "version": "3.11.7"
  }
 },
 "nbformat": 4,
 "nbformat_minor": 5
}
